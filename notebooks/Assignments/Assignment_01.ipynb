{
  "cells": [
    {
      "metadata": {
        "id": "1c58786e7d26ad61"
      },
      "cell_type": "markdown",
      "source": [
        "# Assignment 1\n",
        "\n",
        "In this assignment, you will investigate the precision issues in computing the gradient. You will also implement a simple linear regression model using the custom autograd engine."
      ],
      "id": "1c58786e7d26ad61"
    },
    {
      "metadata": {
        "id": "abb3e4038597e341"
      },
      "cell_type": "markdown",
      "source": [
        "## Task 1: Precision issues"
      ],
      "id": "abb3e4038597e341"
    },
    {
      "metadata": {
        "jupyter": {
          "is_executing": true
        },
        "colab": {
          "base_uri": "https://localhost:8080/"
        },
        "id": "9d637ecc07f917b6",
        "outputId": "a7138dd4-7781-4736-df9f-b931a9f202d7"
      },
      "cell_type": "code",
      "source": [
        "def f(x):\n",
        "    return 3 * x ** 2 - 4 * x + 5\n",
        "\n",
        "def gradient(f, x, h=0.0001):\n",
        "    return (f(x + h) - f(x)) / h\n",
        "\n",
        "gradient(f, 2)"
      ],
      "id": "9d637ecc07f917b6",
      "outputs": [
        {
          "output_type": "execute_result",
          "data": {
            "text/plain": [
              "8.000300000023941"
            ]
          },
          "metadata": {},
          "execution_count": 1
        }
      ],
      "execution_count": 1
    },
    {
      "metadata": {
        "collapsed": true,
        "colab": {
          "base_uri": "https://localhost:8080/"
        },
        "id": "initial_id",
        "outputId": "763c4f97-7911-4aee-b927-07f4e40d70e9"
      },
      "cell_type": "code",
      "source": [
        "# What happens if we keep decreasing h?\n",
        "gradient(f, 2, h=0.0000000000000001)\n",
        "\n",
        "################################################################################\n",
        "# TODO:                                                                        #\n",
        "# Why is the gradient 0?                                                       #\n",
        "# If you don't know, google it!                                                #\n",
        "################################################################################\n",
        "# *****START OF YOUR CODE (DO NOT DELETE/MODIFY THIS LINE)*****\n",
        "# ANSWER:\n",
        "# h를 작게 설정해서 f(x+h)와 f(x)의 구분이 명확하지 않아져서 f(x+h)-f(x)가 0이 된다.\n",
        "# *****END OF YOUR CODE (DO NOT DELETE/MODIFY THIS LINE)*****"
      ],
      "id": "initial_id",
      "outputs": [
        {
          "output_type": "execute_result",
          "data": {
            "text/plain": [
              "0.0"
            ]
          },
          "metadata": {},
          "execution_count": 2
        }
      ],
      "execution_count": 2
    },
    {
      "metadata": {
        "id": "7f38cac6fc0e388d"
      },
      "cell_type": "markdown",
      "source": [
        "## Task 2: Linear Regression\n",
        "\n",
        "Let's review the training loop of a simple linear regression model."
      ],
      "id": "7f38cac6fc0e388d"
    },
    {
      "metadata": {
        "id": "5bca901c841e73c5"
      },
      "cell_type": "markdown",
      "source": [
        "### Importing Libraries"
      ],
      "id": "5bca901c841e73c5"
    },
    {
      "metadata": {
        "id": "3085115ded6fe281"
      },
      "cell_type": "code",
      "source": [
        "import math\n",
        "import random"
      ],
      "id": "3085115ded6fe281",
      "outputs": [],
      "execution_count": 3
    },
    {
      "metadata": {
        "id": "54917eb18f15a26a"
      },
      "cell_type": "code",
      "source": [
        "class Tensor:\n",
        "    def __init__(self, data, _children=(), _operation=''):\n",
        "        self.data = data\n",
        "        self._prev = set(_children)\n",
        "        self.gradient = 0\n",
        "        self._backward = lambda: None\n",
        "\n",
        "    def __repr__(self):\n",
        "        return f\"tensor=({self.data})\"\n",
        "\n",
        "    def __add__(self, other):  # self + other\n",
        "        output = Tensor(self.data + other.data, (self, other), '+')\n",
        "        def _backward():\n",
        "            self.gradient = 1 * output.gradient\n",
        "            other.gradient = 1 * output.gradient\n",
        "        output._backward = _backward\n",
        "        return output\n",
        "\n",
        "    def __mul__(self, other):  # self * other\n",
        "        output = Tensor(self.data * other.data, (self, other), '*')\n",
        "        def _backward():\n",
        "            self.gradient = other.data * output.gradient\n",
        "            other.gradient = self.data * output.gradient\n",
        "        output._backward = _backward\n",
        "        return output\n",
        "\n",
        "    def tanh(self):  # tanh(self)\n",
        "        output = Tensor(math.tanh(self.data), (self,), 'tanh')\n",
        "        def _backward():\n",
        "            self.gradient = (1.0 - math.tanh(self.data) ** 2) * output.gradient\n",
        "        output._backward = _backward\n",
        "        return output\n",
        "\n",
        "    def __pow__(self, power):  # self ** power\n",
        "        assert isinstance(power, (int, float)), \"Power must be an int or a float\"\n",
        "        output = Tensor(self.data ** power, (self,), f'**{power}')\n",
        "        def _backward():\n",
        "            self.gradient = power * (self.data ** (power - 1)) * output.gradient\n",
        "        output._backward = _backward\n",
        "        return output\n",
        "\n",
        "    def backward(self):\n",
        "        topo = []\n",
        "        visited = set()\n",
        "        def build_topo(v):\n",
        "            if v not in visited:\n",
        "                visited.add(v)\n",
        "                for child in v._prev:\n",
        "                    build_topo(child)\n",
        "                topo.append(v)\n",
        "        build_topo(self)\n",
        "        self.gradient = 1\n",
        "        for node in reversed(topo):\n",
        "            node._backward()\n",
        "\n",
        "    def __neg__(self): # -self\n",
        "        return self * Tensor(-1.0)\n",
        "\n",
        "    def __sub__(self, other): # self - other\n",
        "        return self + (-other)"
      ],
      "id": "54917eb18f15a26a",
      "outputs": [],
      "execution_count": 4
    },
    {
      "metadata": {
        "id": "8c6a0bf8bbd6a560"
      },
      "cell_type": "markdown",
      "source": [
        "### Data\n",
        "\n",
        "**GOAL: Find the best line that fits the following data.**\n",
        "\n",
        "![Data](../../assets/linear.png)\n",
        "\n",
        "(Image credit: MIT 18.06)\n",
        "\n",
        "(1, 1), (2, 2), (3, 2)"
      ],
      "id": "8c6a0bf8bbd6a560"
    },
    {
      "metadata": {
        "id": "76e76d698b2bd862"
      },
      "cell_type": "code",
      "source": [
        "# Input, Target data\n",
        "input = [Tensor(1), Tensor(2), Tensor(3)]\n",
        "target = [Tensor(1), Tensor(2), Tensor(2)]"
      ],
      "id": "76e76d698b2bd862",
      "outputs": [],
      "execution_count": 5
    },
    {
      "metadata": {
        "id": "26e07078367a6cf2"
      },
      "cell_type": "markdown",
      "source": [
        "### Model"
      ],
      "id": "26e07078367a6cf2"
    },
    {
      "metadata": {
        "id": "eb6d8bd7ee689ba5"
      },
      "cell_type": "code",
      "source": [
        "# Linear regression model\n",
        "class Linear:\n",
        "    def __init__(self):\n",
        "        self.a = Tensor(random.uniform(-1, 1))\n",
        "        self.b = Tensor(random.uniform(-1, 1))\n",
        "\n",
        "    def __call__(self, x):\n",
        "        y = self.a * x + self.b\n",
        "        return y\n",
        "\n",
        "    def parameters(self):\n",
        "        return self.a, self.b"
      ],
      "id": "eb6d8bd7ee689ba5",
      "outputs": [],
      "execution_count": 6
    },
    {
      "metadata": {
        "colab": {
          "base_uri": "https://localhost:8080/"
        },
        "id": "115e33323215ad51",
        "outputId": "01b2362b-2305-4e10-a548-f5b376886482"
      },
      "cell_type": "code",
      "source": [
        "# Initialize the model\n",
        "model = Linear()\n",
        "\n",
        "# Example forward pass\n",
        "print(f\"Output: {model(input[0])}\")"
      ],
      "id": "115e33323215ad51",
      "outputs": [
        {
          "output_type": "stream",
          "name": "stdout",
          "text": [
            "Output: tensor=(-0.8018894963622922)\n"
          ]
        }
      ],
      "execution_count": 7
    },
    {
      "metadata": {
        "id": "ef292ec8ddb33418"
      },
      "cell_type": "markdown",
      "source": [
        "### Training\n",
        "\n",
        "Implement the training loop for the linear regression model.\n",
        "\n",
        "Choose an appropriate learning rate."
      ],
      "id": "ef292ec8ddb33418"
    },
    {
      "metadata": {
        "colab": {
          "base_uri": "https://localhost:8080/"
        },
        "id": "a593eadd7f471de7",
        "outputId": "8d658979-138b-443b-91bc-da4c3ead8222"
      },
      "cell_type": "code",
      "source": [
        "lr = 2e-4  # learning rate\n",
        "\n",
        "# Training loop\n",
        "for step in range(10):\n",
        "    total_loss = Tensor(0)\n",
        "\n",
        "    # Forward pass\n",
        "    for x, y in zip(input, target):\n",
        "        ################################################################################\n",
        "        # TODO:                                                                        #\n",
        "        # Implement the forward pass.                                                  #\n",
        "        ################################################################################\n",
        "        # *****START OF YOUR CODE (DO NOT DELETE/MODIFY THIS LINE)*****\n",
        "        y_pred = model(x)\n",
        "        loss = (y_pred - y) ** 2\n",
        "        # *****END OF YOUR CODE (DO NOT DELETE/MODIFY THIS LINE)*****\n",
        "        total_loss += loss\n",
        "\n",
        "    # Backward pass\n",
        "    ################################################################################\n",
        "    # TODO:                                                                        #\n",
        "    # Implement the backward pass.                                                 #\n",
        "    ################################################################################\n",
        "    # *****START OF YOUR CODE (DO NOT DELETE/MODIFY THIS LINE)*****\n",
        "    total_loss.gradient = 1\n",
        "    total_loss.backward()\n",
        "    # *****END OF YOUR CODE (DO NOT DELETE/MODIFY THIS LINE)*****\n",
        "\n",
        "    # Update weights\n",
        "    ################################################################################\n",
        "    # TODO:                                                                        #\n",
        "    # Update the weights of the model using the gradients.                         #\n",
        "    ################################################################################\n",
        "    # *****START OF YOUR CODE (DO NOT DELETE/MODIFY THIS LINE)*****\n",
        "    model.a.data -= lr * model.a.gradient\n",
        "    model.b.data -= lr * model.b.gradient\n",
        "    # *****END OF YOUR CODE (DO NOT DELETE/MODIFY THIS LINE)*****\n",
        "\n",
        "    print(f\"Step: {step}, Loss: {total_loss.data}\")"
      ],
      "id": "a593eadd7f471de7",
      "outputs": [
        {
          "output_type": "stream",
          "name": "stdout",
          "text": [
            "Step: 0, Loss: 29.479386224201697\n",
            "Step: 1, Loss: 29.264241683502124\n",
            "Step: 2, Loss: 29.050748427291232\n",
            "Step: 3, Loss: 28.920959278944032\n",
            "Step: 4, Loss: 28.710092373617254\n",
            "Step: 5, Loss: 28.581748677073247\n",
            "Step: 6, Loss: 28.373476369250277\n",
            "Step: 7, Loss: 28.246561514680373\n",
            "Step: 8, Loss: 28.0408524317478\n",
            "Step: 9, Loss: 27.915350003394913\n"
          ]
        }
      ],
      "execution_count": 12
    },
    {
      "metadata": {
        "colab": {
          "base_uri": "https://localhost:8080/"
        },
        "id": "9bf143c6ea52981f",
        "outputId": "ef395532-fb2b-42a2-cb27-b434fbf0485e"
      },
      "cell_type": "code",
      "source": [
        "# Print the final weights of the model\n",
        "print(f\"y = {model.a.data}*x + {model.b.data}\")"
      ],
      "id": "9bf143c6ea52981f",
      "outputs": [
        {
          "output_type": "stream",
          "name": "stdout",
          "text": [
            "y = -0.5016890600747006*x + -0.24764519763769297\n"
          ]
        }
      ],
      "execution_count": 13
    },
    {
      "metadata": {
        "id": "f780baeabe64ada1"
      },
      "cell_type": "markdown",
      "source": [
        "## Extra Credit\n",
        "\n",
        "Linear regression is the simplest form of neural networks. It actually does not require gradient descent to solve for the weights.\n",
        "\n",
        "**Find a way to get the weights of the linear regression model without using gradient descent.**"
      ],
      "id": "f780baeabe64ada1"
    },
    {
      "metadata": {
        "id": "969d8988286f10fc"
      },
      "cell_type": "code",
      "source": [
        "################################################################################\n",
        "# TODO:                                                                        #\n",
        "# y = ax + b                                                                   #\n",
        "# x, y = (1, 1), (2, 2), (3, 2)                                                #\n",
        "# Find the values of a and b without using gradient descent.                   #\n",
        "################################################################################\n",
        "# *****START OF YOUR CODE (DO NOT DELETE/MODIFY THIS LINE)*****\n",
        "# a = ??\n",
        "# b = ??\n",
        "# *****END OF YOUR CODE (DO NOT DELETE/MODIFY THIS LINE)*****"
      ],
      "id": "969d8988286f10fc",
      "outputs": [],
      "execution_count": null
    }
  ],
  "metadata": {
    "kernelspec": {
      "display_name": "Python 3",
      "language": "python",
      "name": "python3"
    },
    "language_info": {
      "codemirror_mode": {
        "name": "ipython",
        "version": 2
      },
      "file_extension": ".py",
      "mimetype": "text/x-python",
      "name": "python",
      "nbconvert_exporter": "python",
      "pygments_lexer": "ipython2",
      "version": "2.7.6"
    },
    "colab": {
      "provenance": []
    }
  },
  "nbformat": 4,
  "nbformat_minor": 5
}